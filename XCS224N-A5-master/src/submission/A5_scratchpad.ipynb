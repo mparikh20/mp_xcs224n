{
 "cells": [
  {
   "cell_type": "code",
   "execution_count": 1,
   "id": "7a53473f-a382-4723-af4f-e801650ff9af",
   "metadata": {},
   "outputs": [],
   "source": [
    "from torch.utils.data import Dataset"
   ]
  },
  {
   "cell_type": "code",
   "execution_count": 28,
   "id": "ec87c6fe-fcc5-442b-ad35-d9cf1d7cbfa9",
   "metadata": {},
   "outputs": [],
   "source": [
    "import random"
   ]
  },
  {
   "cell_type": "code",
   "execution_count": null,
   "id": "f51b0ead-7e97-4ad6-87c3-91da9e2fbffd",
   "metadata": {},
   "outputs": [],
   "source": [
    "class CharCorruptionDataset(Dataset):\n",
    "    def __init__(self, data, block_size):\n",
    "        self.MASK_CHAR = u\"\\u2047\" # the doublequestionmark character, for mask\n",
    "        self.PAD_CHAR = u\"\\u25A1\" # the empty square character, for pad\n",
    "\n",
    "        chars = list(sorted(list(set(data))))\n",
    "        assert self.MASK_CHAR not in chars \n",
    "        assert self.PAD_CHAR not in chars\n",
    "        chars.insert(0, self.MASK_CHAR)\n",
    "        chars.insert(0, self.PAD_CHAR)\n",
    "\n",
    "        self.stoi = { ch:i for i,ch in enumerate(chars) }\n",
    "        self.itos = { i:ch for i,ch in enumerate(chars) }\n",
    "\n",
    "        data_size, vocab_size = len(data), len(chars)\n",
    "        print('data has %d characters, %d unique.' % (data_size, vocab_size))\n",
    "\n",
    "        self.block_size = block_size\n",
    "        self.max_context_size = int(block_size*3/4)\n",
    "        self.masking_percent = 0.25\n",
    "        self.vocab_size = vocab_size\n",
    "        self.data = data.split('\\n')\n",
    "        self.item = None\n",
    "\n",
    "    def __len__(self):\n",
    "        # returns the length of the dataset\n",
    "        return len(self.data)\n",
    "\n",
    "    def __getitem__(self, idx):\n",
    "\n",
    "        ### TODO:\n",
    "        ### [part e]: see spec above\n",
    "\n",
    "        ### START CODE HERE\n",
    "        \n",
    "        ### END CODE HERE\n",
    "\n",
    "        raise NotImplementedError"
   ]
  },
  {
   "cell_type": "code",
   "execution_count": 2,
   "id": "e162a411-44c0-4621-a354-fea35a75aef5",
   "metadata": {},
   "outputs": [],
   "source": [
    "data = open('./../data/wiki.txt', encoding='utf-8').read()"
   ]
  },
  {
   "cell_type": "code",
   "execution_count": 5,
   "id": "7d77754c-1b69-4077-94ea-bf75026c94d9",
   "metadata": {},
   "outputs": [
    {
     "data": {
      "text/plain": [
       "\"Khatchig Mouradian. Khatchig Mouradian is a journalist, writer and translator born in Lebanon .\\nJacob Henry Studer. Jacob Henry Studer (26 February 1840 Columbus, Ohio - 2 August 1904 New York City) was a printer, lithographer, painter, and popular ornithologist active in Columbus, Ohio from the 1860s to the 1880s .\\nJohn Stephen. Born in Glasgow, Stephen became a welder's apprentice on leaving school .\\nGeorgina Willis. Georgina Willis is an award winning film director who was born in Australia and now lives in London .\\nStanley Corrsin. Corrsin was born on 3 April 1920 in Philadelphia, Pennsylvania .\\nEduard Ender. Eduard Ender (3 March 1822 Rome -- 28 December 1883 London) was an Austrian painter .\\nJohn Fisher. Born in Glasgow, Fisher is a graduate of the London Opera Centre, the Royal Academy of Music, and the University of Glasgow .\\nIago Dekanozishvili. Iago Dekanozishvili (born in 1951 in Tbilisi) is a Georgian artist, a graduate of the Tbilisi State Academy of Fine Arts .\\nLucy Toulm\""
      ]
     },
     "execution_count": 5,
     "metadata": {},
     "output_type": "execute_result"
    }
   ],
   "source": [
    "data[:1000]"
   ]
  },
  {
   "cell_type": "code",
   "execution_count": 6,
   "id": "7d1e7b58-f332-42ad-9703-f7aecebe5e20",
   "metadata": {},
   "outputs": [],
   "source": [
    "block_size = 128"
   ]
  },
  {
   "cell_type": "code",
   "execution_count": 12,
   "id": "eb329a6a-45dd-4c33-a89a-8f55c86e70d6",
   "metadata": {},
   "outputs": [],
   "source": [
    "MASK_CHAR = u\"\\u2047\" # the doublequestionmark character, for mask\n",
    "PAD_CHAR = u\"\\u25A1\" # the empty square character, for pad\n",
    "\n",
    "chars = list(sorted(list(set(data))))\n",
    "assert MASK_CHAR not in chars \n",
    "assert PAD_CHAR not in chars\n",
    "chars.insert(0, MASK_CHAR)\n",
    "chars.insert(0, PAD_CHAR)\n",
    "\n",
    "stoi = { ch:i for i,ch in enumerate(chars) }\n",
    "itos = { i:ch for i,ch in enumerate(chars) }"
   ]
  },
  {
   "cell_type": "code",
   "execution_count": 15,
   "id": "3aa17c0c-6783-4e09-91ef-063875365e45",
   "metadata": {},
   "outputs": [],
   "source": [
    "max_context_size = int(block_size*3/4)"
   ]
  },
  {
   "cell_type": "code",
   "execution_count": 16,
   "id": "33557949-fd61-4943-a1c7-9662cfa69197",
   "metadata": {},
   "outputs": [
    {
     "data": {
      "text/plain": [
       "96"
      ]
     },
     "execution_count": 16,
     "metadata": {},
     "output_type": "execute_result"
    }
   ],
   "source": [
    "max_context_size"
   ]
  },
  {
   "cell_type": "code",
   "execution_count": 20,
   "id": "5ed3ff59-2b7d-43df-ba8d-1bfaf3aaafc3",
   "metadata": {},
   "outputs": [],
   "source": [
    "data_list = data.split('\\n')"
   ]
  },
  {
   "cell_type": "code",
   "execution_count": 23,
   "id": "5f6ee8fa-b5b8-4992-99fa-dba14e4b5a9d",
   "metadata": {},
   "outputs": [
    {
     "data": {
      "text/plain": [
       "['Khatchig Mouradian. Khatchig Mouradian is a journalist, writer and translator born in Lebanon .',\n",
       " 'Jacob Henry Studer. Jacob Henry Studer (26 February 1840 Columbus, Ohio - 2 August 1904 New York City) was a printer, lithographer, painter, and popular ornithologist active in Columbus, Ohio from the 1860s to the 1880s .',\n",
       " \"John Stephen. Born in Glasgow, Stephen became a welder's apprentice on leaving school .\"]"
      ]
     },
     "execution_count": 23,
     "metadata": {},
     "output_type": "execute_result"
    }
   ],
   "source": [
    "data_list[0:3]"
   ]
  },
  {
   "cell_type": "code",
   "execution_count": 24,
   "id": "a5cbbc25-47a1-47f6-b4a7-1297d8ea5b6f",
   "metadata": {},
   "outputs": [
    {
     "data": {
      "text/plain": [
       "2937"
      ]
     },
     "execution_count": 24,
     "metadata": {},
     "output_type": "execute_result"
    }
   ],
   "source": [
    "len(data_list)"
   ]
  },
  {
   "cell_type": "code",
   "execution_count": 56,
   "id": "22260ee7-16b8-406f-9aae-16048b0c7dd1",
   "metadata": {},
   "outputs": [],
   "source": [
    "# task 0\n",
    "idx = 2\n",
    "document = data_list[idx]"
   ]
  },
  {
   "cell_type": "code",
   "execution_count": 57,
   "id": "40e9f6ab-dbfe-4c63-88c3-5c13258069c7",
   "metadata": {},
   "outputs": [
    {
     "data": {
      "text/plain": [
       "\"John Stephen. Born in Glasgow, Stephen became a welder's apprentice on leaving school .\""
      ]
     },
     "execution_count": 57,
     "metadata": {},
     "output_type": "execute_result"
    }
   ],
   "source": [
    "document"
   ]
  },
  {
   "cell_type": "code",
   "execution_count": 58,
   "id": "5305cd49-cb6f-477e-937f-a3b61eead707",
   "metadata": {},
   "outputs": [
    {
     "data": {
      "text/plain": [
       "87"
      ]
     },
     "execution_count": 58,
     "metadata": {},
     "output_type": "execute_result"
    }
   ],
   "source": [
    "# task 1\n",
    "# truncate document randomly - size should be >= 4 and <= max_context_size\n",
    "# check the length of the document first because if the length is less than the context size\n",
    "len(document)"
   ]
  },
  {
   "cell_type": "code",
   "execution_count": 76,
   "id": "0e9d7f4b-ff4f-44fd-85e9-cd0c33b76f6b",
   "metadata": {},
   "outputs": [
    {
     "name": "stdout",
     "output_type": "stream",
     "text": [
      "30\n",
      "John Stephen. Born in Glasgow,\n"
     ]
    }
   ],
   "source": [
    "# truncate\n",
    "if len(document) < max_context_size:\n",
    "    max_length = len(document)\n",
    "else:\n",
    "    max_length = max_context_size\n",
    "\n",
    "# select a length at random\n",
    "length = random.randint(4,max_length)\n",
    "print(length)\n",
    "truncated_document = document[0:length]\n",
    "\n",
    "assert len(truncated_document) == length\n",
    "print(truncated_document)"
   ]
  },
  {
   "cell_type": "raw",
   "id": "3df4517f-5af8-432b-8961-578caa2feea3",
   "metadata": {},
   "source": [
    "2. Now, break the (truncated) document into three substrings:\n",
    "    \n",
    "    [prefix] [masked_content] [suffix]\n",
    "\n",
    "  In other words, choose three strings prefix, masked_content and suffix\n",
    "    such that prefix + masked_content + suffix = [the original document].\n",
    "  The length of [masked_content] should be random, and 1/4 the length of the\n",
    "    truncated document on average."
   ]
  },
  {
   "cell_type": "code",
   "execution_count": 77,
   "id": "a98d3f21-4014-416b-9858-84bcbdb19645",
   "metadata": {},
   "outputs": [],
   "source": [
    "masking_percent = 0.25"
   ]
  },
  {
   "cell_type": "code",
   "execution_count": 78,
   "id": "1eec678f-14e9-4c81-9592-396bff1f9b16",
   "metadata": {},
   "outputs": [],
   "source": [
    "max_masked_length = int(0.25*len(truncated_document))"
   ]
  },
  {
   "cell_type": "code",
   "execution_count": 79,
   "id": "cd528f83-31dd-4676-a87a-75f233650c43",
   "metadata": {},
   "outputs": [
    {
     "data": {
      "text/plain": [
       "7"
      ]
     },
     "execution_count": 79,
     "metadata": {},
     "output_type": "execute_result"
    }
   ],
   "source": [
    "max_masked_length"
   ]
  },
  {
   "cell_type": "code",
   "execution_count": 80,
   "id": "ed8dc9ef-9e2d-4046-88ec-714d4898bdb2",
   "metadata": {},
   "outputs": [
    {
     "data": {
      "text/plain": [
       "\"John Stephen. Born in Glasgow, Stephen became a welder's apprentice on leaving school .\""
      ]
     },
     "execution_count": 80,
     "metadata": {},
     "output_type": "execute_result"
    }
   ],
   "source": [
    "document"
   ]
  },
  {
   "cell_type": "code",
   "execution_count": 81,
   "id": "e471b379-197c-4080-954d-cbd06216aa37",
   "metadata": {},
   "outputs": [],
   "source": [
    "mask_length = random.randint(1,max_masked_length)"
   ]
  },
  {
   "cell_type": "code",
   "execution_count": 82,
   "id": "cfd95e3f-9875-4525-bb02-2ca28a7f631f",
   "metadata": {},
   "outputs": [
    {
     "data": {
      "text/plain": [
       "3"
      ]
     },
     "execution_count": 82,
     "metadata": {},
     "output_type": "execute_result"
    }
   ],
   "source": [
    "mask_length"
   ]
  },
  {
   "cell_type": "code",
   "execution_count": 85,
   "id": "9db05c4e-0220-4f50-b0c0-68d1d7d9c044",
   "metadata": {},
   "outputs": [],
   "source": [
    "# randomly select prefix length\n",
    "max_prefix_length = len(truncated_document) - mask_length - 1"
   ]
  },
  {
   "cell_type": "code",
   "execution_count": 86,
   "id": "6fc76889-f639-4554-81b1-9a13bf56330d",
   "metadata": {},
   "outputs": [
    {
     "data": {
      "text/plain": [
       "26"
      ]
     },
     "execution_count": 86,
     "metadata": {},
     "output_type": "execute_result"
    }
   ],
   "source": [
    "\n",
    "max_prefix_length"
   ]
  },
  {
   "cell_type": "code",
   "execution_count": 87,
   "id": "63030eed-32c5-4a32-a730-0c8ef4c356ec",
   "metadata": {},
   "outputs": [],
   "source": [
    "prefix_length = random.randint(1,max_prefix_length)"
   ]
  },
  {
   "cell_type": "code",
   "execution_count": 88,
   "id": "a927b201-7d52-4fcc-800c-d9deee9744c7",
   "metadata": {},
   "outputs": [
    {
     "data": {
      "text/plain": [
       "4"
      ]
     },
     "execution_count": 88,
     "metadata": {},
     "output_type": "execute_result"
    }
   ],
   "source": [
    "prefix_length"
   ]
  },
  {
   "cell_type": "code",
   "execution_count": 89,
   "id": "886b2cf4-1f93-4a59-b429-ffa0fdbfbc0a",
   "metadata": {},
   "outputs": [],
   "source": [
    "prefix = truncated_document[0:prefix_length]\n",
    "masked_content = truncated_document[prefix_length:prefix_length+mask_length]\n",
    "suffix = truncated_document[prefix_length+mask_length:]"
   ]
  },
  {
   "cell_type": "code",
   "execution_count": 90,
   "id": "ee1b0d3b-a550-4f85-819b-51df47de3c4e",
   "metadata": {},
   "outputs": [
    {
     "data": {
      "text/plain": [
       "'John'"
      ]
     },
     "execution_count": 90,
     "metadata": {},
     "output_type": "execute_result"
    }
   ],
   "source": [
    "prefix"
   ]
  },
  {
   "cell_type": "code",
   "execution_count": 91,
   "id": "6b90a325-e474-4bfd-8b66-03c70c71a1e8",
   "metadata": {},
   "outputs": [
    {
     "data": {
      "text/plain": [
       "' St'"
      ]
     },
     "execution_count": 91,
     "metadata": {},
     "output_type": "execute_result"
    }
   ],
   "source": [
    "masked_content"
   ]
  },
  {
   "cell_type": "code",
   "execution_count": 92,
   "id": "f2939950-06c5-4934-aec3-455dca124b40",
   "metadata": {},
   "outputs": [
    {
     "data": {
      "text/plain": [
       "'ephen. Born in Glasgow,'"
      ]
     },
     "execution_count": 92,
     "metadata": {},
     "output_type": "execute_result"
    }
   ],
   "source": [
    "suffix"
   ]
  },
  {
   "cell_type": "code",
   "execution_count": null,
   "id": "bc76177f-89a9-445c-be3e-90bae4523cce",
   "metadata": {},
   "outputs": [],
   "source": []
  }
 ],
 "metadata": {
  "kernelspec": {
   "display_name": "Python 3 (ipykernel)",
   "language": "python",
   "name": "python3"
  },
  "language_info": {
   "codemirror_mode": {
    "name": "ipython",
    "version": 3
   },
   "file_extension": ".py",
   "mimetype": "text/x-python",
   "name": "python",
   "nbconvert_exporter": "python",
   "pygments_lexer": "ipython3",
   "version": "3.8.20"
  }
 },
 "nbformat": 4,
 "nbformat_minor": 5
}
