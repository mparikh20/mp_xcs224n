{
 "cells": [
  {
   "cell_type": "code",
   "execution_count": 1,
   "id": "57f61d3b",
   "metadata": {},
   "outputs": [],
   "source": [
    "import numpy as np"
   ]
  },
  {
   "cell_type": "markdown",
   "id": "44d031d3",
   "metadata": {},
   "source": [
    "## Function 1 -  sigmoid function"
   ]
  },
  {
   "cell_type": "markdown",
   "id": "048bac14",
   "metadata": {},
   "source": [
    "*My solution*"
   ]
  },
  {
   "cell_type": "code",
   "execution_count": 2,
   "id": "1e317139",
   "metadata": {},
   "outputs": [],
   "source": [
    "def sigmoid(x):\n",
    "    \n",
    "    # the sigmoid function is 1/(1+e power -x)\n",
    "    \n",
    "    s = 1 / (1 + np.exp(-x))\n",
    "    \n",
    "    return s"
   ]
  },
  {
   "cell_type": "code",
   "execution_count": 3,
   "id": "bbe54ae4",
   "metadata": {},
   "outputs": [
    {
     "data": {
      "text/plain": [
       "0.9999546021312976"
      ]
     },
     "execution_count": 3,
     "metadata": {},
     "output_type": "execute_result"
    }
   ],
   "source": [
    "# Try on scalar\n",
    "\n",
    "x = np.array(10)\n",
    "s = sigmoid(x)\n",
    "s"
   ]
  },
  {
   "cell_type": "markdown",
   "id": "52b91000",
   "metadata": {},
   "source": [
    "*Test on array*"
   ]
  },
  {
   "cell_type": "code",
   "execution_count": 4,
   "id": "3f10e761",
   "metadata": {},
   "outputs": [
    {
     "data": {
      "text/plain": [
       "array([0.73105858, 0.88079708, 0.95257413, 0.98201379, 0.99330715])"
      ]
     },
     "execution_count": 4,
     "metadata": {},
     "output_type": "execute_result"
    }
   ],
   "source": [
    "x = np.array(np.array([1, 2, 3, 4, 5]))\n",
    "s = sigmoid(x)\n",
    "s"
   ]
  },
  {
   "cell_type": "markdown",
   "id": "70e730f3",
   "metadata": {},
   "source": [
    "**Testing it on their input from the unit test utils.py**\n",
    "\n",
    "Code result approximately matches their output."
   ]
  },
  {
   "cell_type": "code",
   "execution_count": 5,
   "id": "bfd91a3e",
   "metadata": {},
   "outputs": [],
   "source": [
    "x = np.array([-0.46612273, -0.87671855, 0.54822123, -0.36443576, -0.87671855, 0.33688521\n",
    "              , -0.87671855, 0.33688521, -0.36443576, -0.36443576, 0.54822123]).astype(float)"
   ]
  },
  {
   "cell_type": "code",
   "execution_count": 6,
   "id": "822ca418",
   "metadata": {},
   "outputs": [
    {
     "data": {
      "text/plain": [
       "array([-0.46612273, -0.87671855,  0.54822123, -0.36443576, -0.87671855,\n",
       "        0.33688521, -0.87671855,  0.33688521, -0.36443576, -0.36443576,\n",
       "        0.54822123])"
      ]
     },
     "execution_count": 6,
     "metadata": {},
     "output_type": "execute_result"
    }
   ],
   "source": [
    "x"
   ]
  },
  {
   "cell_type": "code",
   "execution_count": 7,
   "id": "8a610c88",
   "metadata": {},
   "outputs": [],
   "source": [
    "expected_s = np.array(\n",
    "            [0.38553435, 0.29385824, 0.63372281, 0.40988622, 0.29385824, 0.5834337, 0.29385824, 0.5834337, 0.40988622,\n",
    "             0.40988622, 0.63372281]).astype(float)"
   ]
  },
  {
   "cell_type": "code",
   "execution_count": 8,
   "id": "b10957b9",
   "metadata": {},
   "outputs": [
    {
     "data": {
      "text/plain": [
       "array([0.38553435, 0.29385824, 0.63372281, 0.40988622, 0.29385824,\n",
       "       0.5834337 , 0.29385824, 0.5834337 , 0.40988622, 0.40988622,\n",
       "       0.63372281])"
      ]
     },
     "execution_count": 8,
     "metadata": {},
     "output_type": "execute_result"
    }
   ],
   "source": [
    "expected_s"
   ]
  },
  {
   "cell_type": "code",
   "execution_count": 10,
   "id": "bc8406dc",
   "metadata": {},
   "outputs": [],
   "source": [
    "# testing with my code\n",
    "observed_s = sigmoid(x)"
   ]
  },
  {
   "cell_type": "code",
   "execution_count": 11,
   "id": "944db41a",
   "metadata": {
    "scrolled": true
   },
   "outputs": [
    {
     "data": {
      "text/plain": [
       "array([0.38553435, 0.29385824, 0.6337228 , 0.40988622, 0.29385824,\n",
       "       0.58343371, 0.29385824, 0.58343371, 0.40988622, 0.40988622,\n",
       "       0.6337228 ])"
      ]
     },
     "execution_count": 11,
     "metadata": {},
     "output_type": "execute_result"
    }
   ],
   "source": [
    "observed_s"
   ]
  },
  {
   "cell_type": "markdown",
   "id": "ad030fbc",
   "metadata": {},
   "source": [
    "# Function 2 - Naive softmax and loss function"
   ]
  },
  {
   "cell_type": "markdown",
   "id": "76a617fc",
   "metadata": {},
   "source": [
    "**Their input from the basic unit test is:**"
   ]
  },
  {
   "cell_type": "code",
   "execution_count": 12,
   "id": "4e6fa26c",
   "metadata": {},
   "outputs": [],
   "source": [
    "center_word_vec = np.array([-0.27323645, 0.12538062, 0.95374082]).astype(float)\n",
    "\n",
    "outside_word_idx = 3\n",
    "\n",
    "outside_vectors = np.array([[-0.6831809, -0.04200519, 0.72904007],\n",
    "                                    [0.18289107, 0.76098587, -0.62245591],\n",
    "                                    [-0.61517874, 0.5147624, -0.59713884],\n",
    "                                    [-0.33867074, -0.80966534, -0.47931635],\n",
    "                                    [-0.52629529, -0.78190408, 0.33412466]]).astype(float)"
   ]
  },
  {
   "cell_type": "markdown",
   "id": "30cf090e",
   "metadata": {},
   "source": [
    "*This shows the center word vector.*"
   ]
  },
  {
   "cell_type": "code",
   "execution_count": 13,
   "id": "479db91c",
   "metadata": {},
   "outputs": [
    {
     "data": {
      "text/plain": [
       "array([-0.27323645,  0.12538062,  0.95374082])"
      ]
     },
     "execution_count": 13,
     "metadata": {},
     "output_type": "execute_result"
    }
   ],
   "source": [
    "center_word_vec"
   ]
  },
  {
   "cell_type": "code",
   "execution_count": 14,
   "id": "5e715660",
   "metadata": {},
   "outputs": [
    {
     "data": {
      "text/plain": [
       "3"
      ]
     },
     "execution_count": 14,
     "metadata": {},
     "output_type": "execute_result"
    }
   ],
   "source": [
    "outside_word_idx"
   ]
  },
  {
   "cell_type": "markdown",
   "id": "70b3b158",
   "metadata": {},
   "source": [
    "*This is basically the U matrix consisting of all outside word vectors. Each row should be an outside word vector.*\n",
    "\n",
    "Here, its a 5x3 matrix, so there are 5 vectors and 3 dimensions."
   ]
  },
  {
   "cell_type": "code",
   "execution_count": 15,
   "id": "51a91aab",
   "metadata": {},
   "outputs": [
    {
     "data": {
      "text/plain": [
       "array([[-0.6831809 , -0.04200519,  0.72904007],\n",
       "       [ 0.18289107,  0.76098587, -0.62245591],\n",
       "       [-0.61517874,  0.5147624 , -0.59713884],\n",
       "       [-0.33867074, -0.80966534, -0.47931635],\n",
       "       [-0.52629529, -0.78190408,  0.33412466]])"
      ]
     },
     "execution_count": 15,
     "metadata": {},
     "output_type": "execute_result"
    }
   ],
   "source": [
    "outside_vectors"
   ]
  },
  {
   "cell_type": "code",
   "execution_count": 16,
   "id": "1635effa",
   "metadata": {},
   "outputs": [
    {
     "data": {
      "text/plain": [
       "(5, 3)"
      ]
     },
     "execution_count": 16,
     "metadata": {},
     "output_type": "execute_result"
    }
   ],
   "source": [
    "outside_vectors.shape"
   ]
  },
  {
   "cell_type": "code",
   "execution_count": 17,
   "id": "1ff9788f",
   "metadata": {},
   "outputs": [
    {
     "data": {
      "text/plain": [
       "array([-0.33867074, -0.80966534, -0.47931635])"
      ]
     },
     "execution_count": 17,
     "metadata": {},
     "output_type": "execute_result"
    }
   ],
   "source": [
    "outside_vectors[outside_word_idx]"
   ]
  },
  {
   "cell_type": "code",
   "execution_count": 18,
   "id": "a2821256",
   "metadata": {},
   "outputs": [],
   "source": [
    "# for 1 pair, the numerator for calculating P(o|c) is exp(product of transposed outside vector and center vector)\n",
    "\n",
    "outside_transposed = outside_vectors[outside_word_idx]"
   ]
  },
  {
   "cell_type": "code",
   "execution_count": 23,
   "id": "570cd58c",
   "metadata": {},
   "outputs": [
    {
     "data": {
      "text/plain": [
       "array([-0.33867074, -0.80966534, -0.47931635])"
      ]
     },
     "execution_count": 23,
     "metadata": {},
     "output_type": "execute_result"
    }
   ],
   "source": [
    "outside_vectors[outside_word_idx].T"
   ]
  },
  {
   "cell_type": "code",
   "execution_count": 24,
   "id": "d44c3613",
   "metadata": {},
   "outputs": [
    {
     "data": {
      "text/plain": [
       "(3,)"
      ]
     },
     "execution_count": 24,
     "metadata": {},
     "output_type": "execute_result"
    }
   ],
   "source": [
    "outside_vectors[outside_word_idx].shape"
   ]
  },
  {
   "cell_type": "markdown",
   "id": "648cc773",
   "metadata": {},
   "source": [
    "**This is the dot product of an outside word vector and center word vector, specifically the outside vector idx 3**"
   ]
  },
  {
   "cell_type": "code",
   "execution_count": 48,
   "id": "d6a60a6a",
   "metadata": {},
   "outputs": [
    {
     "data": {
      "text/plain": [
       "-0.46612272029364477"
      ]
     },
     "execution_count": 48,
     "metadata": {},
     "output_type": "execute_result"
    }
   ],
   "source": [
    "np.dot(outside_vectors[outside_word_idx],center_word_vec)"
   ]
  },
  {
   "cell_type": "markdown",
   "id": "f43d951c",
   "metadata": {},
   "source": [
    "**However, no loops required as you can do a matrix multiplication of the whole outside word matrix U and 1 center word vector**\n",
    "\n",
    "Here, -0.466122 is the dot product for the fourth index and is same as multiplying the respective vectors as shown above."
   ]
  },
  {
   "cell_type": "code",
   "execution_count": 34,
   "id": "10fbe8ef",
   "metadata": {},
   "outputs": [
    {
     "data": {
      "text/plain": [
       "array([ 0.87671856, -0.54822124, -0.3368852 , -0.46612272,  0.36443577])"
      ]
     },
     "execution_count": 34,
     "metadata": {},
     "output_type": "execute_result"
    }
   ],
   "source": [
    "# Compare this with applying to entire matrix U\n",
    "\n",
    "np.matmul(outside_vectors,center_word_vec)"
   ]
  },
  {
   "cell_type": "markdown",
   "id": "52cff7dc",
   "metadata": {},
   "source": [
    "**Their softmax function copied from utils.py**"
   ]
  },
  {
   "cell_type": "code",
   "execution_count": 35,
   "id": "471c1951",
   "metadata": {},
   "outputs": [],
   "source": [
    "def softmax(x):\n",
    "    \"\"\"Compute the softmax function for each row of the input x.\n",
    "    It is crucial that this function is optimized for speed because\n",
    "    it will be used frequently in later code. \n",
    "\n",
    "    Arguments:\n",
    "    x -- A D dimensional vector or N x D dimensional numpy matrix.\n",
    "    Return:\n",
    "    x -- You are allowed to modify x in-place\n",
    "    \"\"\"\n",
    "    orig_shape = x.shape\n",
    "\n",
    "    if len(x.shape) > 1:\n",
    "        # Matrix\n",
    "        tmp = np.max(x, axis=1)\n",
    "        x -= tmp.reshape((x.shape[0], 1))\n",
    "        x = np.exp(x)\n",
    "        tmp = np.sum(x, axis=1)\n",
    "        x /= tmp.reshape((x.shape[0], 1))\n",
    "    else:\n",
    "        # Vector\n",
    "        tmp = np.max(x)\n",
    "        x -= tmp\n",
    "        x = np.exp(x)\n",
    "        tmp = np.sum(x)\n",
    "        x /= tmp\n",
    "\n",
    "    assert x.shape == orig_shape\n",
    "    return x"
   ]
  },
  {
   "cell_type": "markdown",
   "id": "47c4b046",
   "metadata": {},
   "source": [
    "**Test taking the softmax of above vector**"
   ]
  },
  {
   "cell_type": "code",
   "execution_count": 40,
   "id": "3185c1f2",
   "metadata": {},
   "outputs": [
    {
     "data": {
      "text/plain": [
       "array([0.41703564, 0.10030664, 0.12391154, 0.10888915, 0.24985703])"
      ]
     },
     "execution_count": 40,
     "metadata": {},
     "output_type": "execute_result"
    }
   ],
   "source": [
    "softmax(np.matmul(outside_vectors,center_word_vec))"
   ]
  },
  {
   "cell_type": "markdown",
   "id": "89a340f0",
   "metadata": {},
   "source": [
    "*Calculate the softmax by self to make sure using their function is correct.*\n",
    "\n",
    "The self calculated vector == their softmax result."
   ]
  },
  {
   "cell_type": "code",
   "execution_count": 49,
   "id": "56efc6cf",
   "metadata": {},
   "outputs": [
    {
     "data": {
      "text/plain": [
       "array([2.40300145, 0.57797698, 0.7139908 , 0.62743028, 1.43970145])"
      ]
     },
     "execution_count": 49,
     "metadata": {},
     "output_type": "execute_result"
    }
   ],
   "source": [
    "np.exp(np.matmul(outside_vectors,center_word_vec))"
   ]
  },
  {
   "cell_type": "code",
   "execution_count": 50,
   "id": "f9e16518",
   "metadata": {},
   "outputs": [
    {
     "data": {
      "text/plain": [
       "0.10888915073782393"
      ]
     },
     "execution_count": 50,
     "metadata": {},
     "output_type": "execute_result"
    }
   ],
   "source": [
    "0.62743028/(2.40300145+0.57797698+0.7139908+0.62743028+1.43970145)"
   ]
  },
  {
   "cell_type": "code",
   "execution_count": 43,
   "id": "8eae4411",
   "metadata": {},
   "outputs": [],
   "source": [
    "P = (np.exp(np.matmul(outside_vectors,center_word_vec)))/(np.sum(np.exp(np.matmul(outside_vectors,center_word_vec))))"
   ]
  },
  {
   "cell_type": "code",
   "execution_count": 46,
   "id": "08c24dde",
   "metadata": {},
   "outputs": [
    {
     "data": {
      "text/plain": [
       "array([0.41703564, 0.10030664, 0.12391154, 0.10888915, 0.24985703])"
      ]
     },
     "execution_count": 46,
     "metadata": {},
     "output_type": "execute_result"
    }
   ],
   "source": [
    "P"
   ]
  },
  {
   "cell_type": "code",
   "execution_count": 51,
   "id": "2fc42387",
   "metadata": {},
   "outputs": [
    {
     "data": {
      "text/plain": [
       "array([[-0.6831809 , -0.04200519,  0.72904007],\n",
       "       [ 0.18289107,  0.76098587, -0.62245591],\n",
       "       [-0.61517874,  0.5147624 , -0.59713884],\n",
       "       [-0.33867074, -0.80966534, -0.47931635],\n",
       "       [-0.52629529, -0.78190408,  0.33412466]])"
      ]
     },
     "execution_count": 51,
     "metadata": {},
     "output_type": "execute_result"
    }
   ],
   "source": [
    "outside_vectors"
   ]
  },
  {
   "cell_type": "code",
   "execution_count": 70,
   "id": "efa420a1",
   "metadata": {},
   "outputs": [
    {
     "data": {
      "text/plain": [
       "array([-0.28491078, -0.01751766,  0.30403569])"
      ]
     },
     "execution_count": 70,
     "metadata": {},
     "output_type": "execute_result"
    }
   ],
   "source": [
    "# for calculating gradient wrt center word, reshaping this is necessary\n",
    "(0.41703564 * outside_vectors[0])"
   ]
  },
  {
   "cell_type": "code",
   "execution_count": 69,
   "id": "d2215069",
   "metadata": {},
   "outputs": [
    {
     "data": {
      "text/plain": [
       "array([[-0.28491078, -0.01751766,  0.30403569],\n",
       "       [ 0.01834519,  0.07633193, -0.06243646],\n",
       "       [-0.07622774,  0.063785  , -0.07399239],\n",
       "       [-0.03687757, -0.08816377, -0.05219235],\n",
       "       [-0.13149858, -0.19536423,  0.0834834 ]])"
      ]
     },
     "execution_count": 69,
     "metadata": {},
     "output_type": "execute_result"
    }
   ],
   "source": [
    "P[:,np.newaxis] * outside_vectors"
   ]
  },
  {
   "cell_type": "code",
   "execution_count": 71,
   "id": "342d125e",
   "metadata": {},
   "outputs": [
    {
     "data": {
      "text/plain": [
       "array([-0.51116949, -0.16092873,  0.19889788])"
      ]
     },
     "execution_count": 71,
     "metadata": {},
     "output_type": "execute_result"
    }
   ],
   "source": [
    "np.sum(P[:,np.newaxis] * outside_vectors,axis=0)"
   ]
  },
  {
   "cell_type": "code",
   "execution_count": 74,
   "id": "ac477fe7",
   "metadata": {},
   "outputs": [
    {
     "data": {
      "text/plain": [
       "array([-0.17249875,  0.64873661,  0.67821423])"
      ]
     },
     "execution_count": 74,
     "metadata": {},
     "output_type": "execute_result"
    }
   ],
   "source": [
    "-outside_vectors[outside_word_idx] + np.sum(P[:,np.newaxis] * outside_vectors,axis=0)"
   ]
  },
  {
   "cell_type": "markdown",
   "id": "d9a500db",
   "metadata": {},
   "source": [
    "**Gradient of loss wrt all outer words U**"
   ]
  },
  {
   "cell_type": "code",
   "execution_count": 75,
   "id": "ff089d67",
   "metadata": {},
   "outputs": [
    {
     "data": {
      "text/plain": [
       "array([[-0.6831809 , -0.04200519,  0.72904007],\n",
       "       [ 0.18289107,  0.76098587, -0.62245591],\n",
       "       [-0.61517874,  0.5147624 , -0.59713884],\n",
       "       [-0.33867074, -0.80966534, -0.47931635],\n",
       "       [-0.52629529, -0.78190408,  0.33412466]])"
      ]
     },
     "execution_count": 75,
     "metadata": {},
     "output_type": "execute_result"
    }
   ],
   "source": [
    "outside_vectors"
   ]
  },
  {
   "cell_type": "code",
   "execution_count": 77,
   "id": "dc354df4",
   "metadata": {},
   "outputs": [],
   "source": [
    "all_outer_probs = naive_softmax_loss_and_gradient(center_word_vec,outside_word_idx,outside_vectors)"
   ]
  },
  {
   "cell_type": "code",
   "execution_count": 78,
   "id": "190e3a43",
   "metadata": {},
   "outputs": [
    {
     "data": {
      "text/plain": [
       "array([0.41703564, 0.10030664, 0.12391154, 0.10888915, 0.24985703])"
      ]
     },
     "execution_count": 78,
     "metadata": {},
     "output_type": "execute_result"
    }
   ],
   "source": [
    "all_outer_probs"
   ]
  },
  {
   "cell_type": "code",
   "execution_count": 80,
   "id": "8239ad62",
   "metadata": {},
   "outputs": [
    {
     "data": {
      "text/plain": [
       "(5,)"
      ]
     },
     "execution_count": 80,
     "metadata": {},
     "output_type": "execute_result"
    }
   ],
   "source": [
    "all_outer_probs.shape"
   ]
  },
  {
   "cell_type": "code",
   "execution_count": 81,
   "id": "0fc02ad6",
   "metadata": {},
   "outputs": [
    {
     "data": {
      "text/plain": [
       "(3,)"
      ]
     },
     "execution_count": 81,
     "metadata": {},
     "output_type": "execute_result"
    }
   ],
   "source": [
    "center_word_vec.shape"
   ]
  },
  {
   "cell_type": "code",
   "execution_count": 82,
   "id": "8cfcafce",
   "metadata": {},
   "outputs": [
    {
     "data": {
      "text/plain": [
       "array([0.41703564, 0.10030664, 0.12391154, 0.10888915, 0.24985703])"
      ]
     },
     "execution_count": 82,
     "metadata": {},
     "output_type": "execute_result"
    }
   ],
   "source": [
    "all_outer_probs"
   ]
  },
  {
   "cell_type": "code",
   "execution_count": 92,
   "id": "ed8875ef",
   "metadata": {},
   "outputs": [],
   "source": [
    "grad_outside_vecs = all_outer_probs[:,np.newaxis] * center_word_vec"
   ]
  },
  {
   "cell_type": "code",
   "execution_count": 93,
   "id": "7825fc0a",
   "metadata": {},
   "outputs": [
    {
     "data": {
      "text/plain": [
       "array([[-0.11394934,  0.05228819,  0.39774391],\n",
       "       [-0.02740743,  0.01257651,  0.09566654],\n",
       "       [-0.03385715,  0.01553611,  0.11817949],\n",
       "       [-0.02975249,  0.01365259,  0.10385203],\n",
       "       [-0.06827005,  0.03132723,  0.23829885]])"
      ]
     },
     "execution_count": 93,
     "metadata": {},
     "output_type": "execute_result"
    }
   ],
   "source": [
    "grad_outside_vecs"
   ]
  },
  {
   "cell_type": "code",
   "execution_count": null,
   "id": "7229643c",
   "metadata": {},
   "outputs": [],
   "source": [
    "# here, also subtract the center word vector from outer word of interest\n",
    " = "
   ]
  },
  {
   "cell_type": "code",
   "execution_count": 94,
   "id": "cd6bc986",
   "metadata": {},
   "outputs": [
    {
     "data": {
      "text/plain": [
       "0.4170356381889728"
      ]
     },
     "execution_count": 94,
     "metadata": {},
     "output_type": "execute_result"
    }
   ],
   "source": [
    "all_outer_probs[0]"
   ]
  },
  {
   "cell_type": "code",
   "execution_count": 100,
   "id": "9afe8620",
   "metadata": {},
   "outputs": [
    {
     "data": {
      "text/plain": [
       "array([ 0.24348396, -0.11172803, -0.84988879])"
      ]
     },
     "execution_count": 100,
     "metadata": {},
     "output_type": "execute_result"
    }
   ],
   "source": [
    "(all_outer_probs[outside_word_idx] * center_word_vec) - center_word_vec"
   ]
  },
  {
   "cell_type": "code",
   "execution_count": null,
   "id": "b4927c3c",
   "metadata": {},
   "outputs": [],
   "source": []
  },
  {
   "cell_type": "code",
   "execution_count": null,
   "id": "e5b6c9e9",
   "metadata": {},
   "outputs": [],
   "source": []
  },
  {
   "cell_type": "code",
   "execution_count": null,
   "id": "359d22ac",
   "metadata": {},
   "outputs": [],
   "source": []
  },
  {
   "cell_type": "code",
   "execution_count": 101,
   "id": "eb510120",
   "metadata": {},
   "outputs": [],
   "source": [
    "def naive_softmax_loss_and_gradient(center_word_vec,outside_word_idx,outside_vectors):\n",
    "    \n",
    "    # Get the dot product of outer word vector and center word vector for each outer word\n",
    "    # This will generate a 1 dimensional vector with n elements (n,)\n",
    "    # Each element represents u.v for outer word+center word pairs\n",
    "    dot_products = np.matmul(outside_vectors,center_word_vec)\n",
    "    \n",
    "    # Apply softmax to this using their util function which will calculate the softmax for each outer word-center word pair\n",
    "    # Ultimately, this will give the probabilities for each outer word to be around context word\n",
    "    all_outer_probs = softmax(dot_products)\n",
    "    \n",
    "    # Up until this point, we have derived the P(o|c) for each outer word-center word pair\n",
    "    # Next, to calculate loss we need to take the negative log of each probability\n",
    "    # Get the probability for the outer word index of interest\n",
    "    outer_word_prob = all_outer_probs[outside_word_idx]\n",
    "    \n",
    "    # get the loss for this outer word and center word pair\n",
    "    # J = -log P(o|c)\n",
    "    loss = -np.log(outer_word_prob)\n",
    "    \n",
    "    # the gradient of J wrt center word vector vc:\n",
    "    # dJ/dv_c = -u_o + Sum(predicted probabilities of each outside word x respective word embedding)\n",
    "    # all_outer_probs[:,np.newaxis] means that the 1d array is converted to a 2D array\n",
    "    # This conversion is imp. since we want an element-wise operation of each predicted prob*embedding for that word\n",
    "    grad_center_vec = -outside_vectors[outside_word_idx] + np.sum(all_outer_probs[:,np.newaxis] * outside_vectors,axis=0)\n",
    "    \n",
    "    # gradient of J wrt outside word matrix U\n",
    "    # dJ/dU = (y_predicted * center word vector) - center word vector for the true outside word\n",
    "    # Assuming that the true word in this case is the outside word at index outside_word_idx\n",
    "    # dJ/dU = (y_predicted * center word vector) for all other outside words\n",
    "    grad_outside_vecs = (all_outer_probs[:,np.newaxis] * center_word_vec)\n",
    "    \n",
    "    # Only for the outside word of interest, subtract the center word vector\n",
    "    grad_outside_vecs[outside_word_idx] = grad_outside_vecs[outside_word_idx] - center_word_vec\n",
    "    \n",
    "    return all_outer_probs"
   ]
  },
  {
   "cell_type": "code",
   "execution_count": null,
   "id": "26090a80",
   "metadata": {},
   "outputs": [],
   "source": []
  }
 ],
 "metadata": {
  "kernelspec": {
   "display_name": "Python 3 (ipykernel)",
   "language": "python",
   "name": "python3"
  },
  "language_info": {
   "codemirror_mode": {
    "name": "ipython",
    "version": 3
   },
   "file_extension": ".py",
   "mimetype": "text/x-python",
   "name": "python",
   "nbconvert_exporter": "python",
   "pygments_lexer": "ipython3",
   "version": "3.9.12"
  }
 },
 "nbformat": 4,
 "nbformat_minor": 5
}
