{
 "cells": [
  {
   "cell_type": "code",
   "execution_count": 10,
   "id": "23bf15fc-538f-4466-b7ef-517220ba0457",
   "metadata": {},
   "outputs": [],
   "source": [
    "def pad_sents(sents, pad_token):\n",
    "    \"\"\" Pad list of sentences according to the longest sentence in the batch.\n",
    "        The paddings should be at the end of each sentence.\n",
    "\n",
    "    Note: this function an be also used when the params are list[list[int]] and (int)\n",
    "\n",
    "    @param sents (list[list[str]]): list of sentences, where each sentence\n",
    "                                    is represented as a list of words\n",
    "    @param pad_token (str): padding token\n",
    "    @returns sents_padded (list[list[str]]): list of sentences where sentences shorter\n",
    "        than the max length sentence are padded out with the pad_token, such that\n",
    "        each sentences in the batch now has equal length.\n",
    "    \"\"\"\n",
    "    sents_padded = []\n",
    "\n",
    "    ### START CODE HERE (~6 Lines)\n",
    "    # get maximum length of a sentence\n",
    "    max_length = max([len(sentence) for sentence in sents])\n",
    "\n",
    "    for sent in sents:\n",
    "    # get sentence length\n",
    "        sent_len = len(sent)\n",
    "        if sent_len < max_length:\n",
    "            # how many tokens to add\n",
    "            add_tokens = max_length - sent_len\n",
    "            sent = sent + ([pad_token]*add_tokens)\n",
    "        sents_padded.append(sent)      \n",
    "    ### END CODE HERE\n",
    "\n",
    "    return sents_padded"
   ]
  },
  {
   "cell_type": "code",
   "execution_count": 11,
   "id": "ec57acde-8745-41af-95a4-c00a3df4fb4b",
   "metadata": {},
   "outputs": [],
   "source": [
    "sents = [['a','cat','sat','on','a','mat'],['i','travel','a','lot']]"
   ]
  },
  {
   "cell_type": "code",
   "execution_count": 12,
   "id": "f15eede6-c927-4449-85ef-3d3b9ba6f2b6",
   "metadata": {},
   "outputs": [],
   "source": [
    "x = pad_sents(sents,'<pad>')"
   ]
  },
  {
   "cell_type": "code",
   "execution_count": 13,
   "id": "e7696daf-b189-46f0-90ca-24835852289a",
   "metadata": {},
   "outputs": [
    {
     "data": {
      "text/plain": [
       "[['a', 'cat', 'sat', 'on', 'a', 'mat'],\n",
       " ['i', 'travel', 'a', 'lot', '<pad>', '<pad>']]"
      ]
     },
     "execution_count": 13,
     "metadata": {},
     "output_type": "execute_result"
    }
   ],
   "source": [
    "x"
   ]
  },
  {
   "cell_type": "code",
   "execution_count": 26,
   "id": "ea6cfcf5-e022-40bf-b33e-b34d4f2caf34",
   "metadata": {},
   "outputs": [
    {
     "ename": "ModuleNotFoundError",
     "evalue": "No module named 'torch'",
     "output_type": "error",
     "traceback": [
      "\u001b[0;31m---------------------------------------------------------------------------\u001b[0m",
      "\u001b[0;31mModuleNotFoundError\u001b[0m                       Traceback (most recent call last)",
      "Cell \u001b[0;32mIn[26], line 1\u001b[0m\n\u001b[0;32m----> 1\u001b[0m \u001b[38;5;28;01mimport\u001b[39;00m \u001b[38;5;21;01mtorch\u001b[39;00m\u001b[38;5;21;01m.\u001b[39;00m\u001b[38;5;21;01mnn\u001b[39;00m \u001b[38;5;28;01mas\u001b[39;00m \u001b[38;5;21;01mnn\u001b[39;00m\n",
      "\u001b[0;31mModuleNotFoundError\u001b[0m: No module named 'torch'"
     ]
    }
   ],
   "source": [
    "import torch.nn as nn"
   ]
  },
  {
   "cell_type": "code",
   "execution_count": 17,
   "id": "1ca13f94-89e6-48bd-9570-5f598eef2d8e",
   "metadata": {},
   "outputs": [],
   "source": [
    "class DummyVocab():\n",
    "  def __init__(self):\n",
    "    self.src = {'<pad>': 1, \"one\": 1, \"two\": 2}  #len = 3\n",
    "    self.tgt = {'<pad>': 3, \"one\": 1, \"two\": 2, \"three\": 3, \"four\": 4}  #len = 5"
   ]
  },
  {
   "cell_type": "code",
   "execution_count": 22,
   "id": "801bdfea-fc13-416b-aaee-6e2d87640f10",
   "metadata": {},
   "outputs": [],
   "source": [
    "class Test_1b(GradedTestCase):\n",
    "  def setUp(self):\n",
    "    self.vocab = DummyVocab()\n",
    "    self.student_result = submission.ModelEmbeddings(12, self.vocab)"
   ]
  },
  {
   "cell_type": "code",
   "execution_count": 25,
   "id": "5385cde6-fcb8-4de6-a7ed-4513c207ba4f",
   "metadata": {},
   "outputs": [
    {
     "data": {
      "text/plain": [
       "3"
      ]
     },
     "execution_count": 25,
     "metadata": {},
     "output_type": "execute_result"
    }
   ],
   "source": [
    "len(x.src)"
   ]
  },
  {
   "cell_type": "code",
   "execution_count": null,
   "id": "c5b79c2a-ce3a-475d-bdef-fdf378b1fe0d",
   "metadata": {},
   "outputs": [],
   "source": []
  }
 ],
 "metadata": {
  "kernelspec": {
   "display_name": "Python 3 (ipykernel)",
   "language": "python",
   "name": "python3"
  },
  "language_info": {
   "codemirror_mode": {
    "name": "ipython",
    "version": 3
   },
   "file_extension": ".py",
   "mimetype": "text/x-python",
   "name": "python",
   "nbconvert_exporter": "python",
   "pygments_lexer": "ipython3",
   "version": "3.12.4"
  }
 },
 "nbformat": 4,
 "nbformat_minor": 5
}
