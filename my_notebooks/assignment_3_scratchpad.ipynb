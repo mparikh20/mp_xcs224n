{
 "cells": [
  {
   "cell_type": "markdown",
   "id": "f1e7a8f1",
   "metadata": {},
   "source": [
    "**Assignment Q1 - Class PartialParse initialization**"
   ]
  },
  {
   "cell_type": "code",
   "execution_count": 63,
   "id": "a6b8cb12",
   "metadata": {},
   "outputs": [],
   "source": [
    "class PartialParse(object):\n",
    "    def __init__(self, sentence):\n",
    "        \"\"\"Initializes this partial parse.\n",
    "\n",
    "        Your code should initialize the following fields:\n",
    "            self.stack: The current stack represented as a list with the top of the stack as the\n",
    "                        last element of the list.\n",
    "            self.buffer: The current buffer represented as a list with the first item on the\n",
    "                         buffer as the first item of the list\n",
    "            self.dependencies: The list of dependencies produced so far. Represented as a list of\n",
    "                    tuples where each tuple is of the form (head, dependent).\n",
    "                    Order for this list doesn't matter.\n",
    "\n",
    "        The root token should be represented with the string \"ROOT\"\n",
    "\n",
    "        Args:\n",
    "            sentence: The sentence to be parsed as a list of words.\n",
    "                      Your code should not modify the sentence.\n",
    "        \"\"\"\n",
    "        # The sentence being parsed is kept for bookkeeping purposes. Do not use it in your code.\n",
    "        self.sentence = sentence\n",
    "\n",
    "        ### START CODE HERE\n",
    "        # Stack should start out with ROOT\n",
    "        self.stack = ['ROOT']\n",
    "        \n",
    "        # buffer should start out with all the words in the sentence\n",
    "        self.buffer = sentence\n",
    "        \n",
    "        # dependencies will be empty\n",
    "        self.dependencies = []\n",
    "        ### END CODE HERE"
   ]
  },
  {
   "cell_type": "code",
   "execution_count": 64,
   "id": "881b7938",
   "metadata": {},
   "outputs": [],
   "source": [
    "pp = PartialParse(['i','ate','fish'])"
   ]
  },
  {
   "cell_type": "code",
   "execution_count": 65,
   "id": "a9c04642",
   "metadata": {},
   "outputs": [
    {
     "data": {
      "text/plain": [
       "['ROOT']"
      ]
     },
     "execution_count": 65,
     "metadata": {},
     "output_type": "execute_result"
    }
   ],
   "source": [
    "pp.stack"
   ]
  },
  {
   "cell_type": "code",
   "execution_count": 66,
   "id": "6af56f0d",
   "metadata": {},
   "outputs": [
    {
     "data": {
      "text/plain": [
       "['i', 'ate', 'fish']"
      ]
     },
     "execution_count": 66,
     "metadata": {},
     "output_type": "execute_result"
    }
   ],
   "source": [
    "pp.buffer"
   ]
  },
  {
   "cell_type": "code",
   "execution_count": 67,
   "id": "b4e17073",
   "metadata": {},
   "outputs": [
    {
     "data": {
      "text/plain": [
       "[]"
      ]
     },
     "execution_count": 67,
     "metadata": {},
     "output_type": "execute_result"
    }
   ],
   "source": [
    "pp.dependencies"
   ]
  },
  {
   "cell_type": "code",
   "execution_count": 68,
   "id": "dc219bcb",
   "metadata": {},
   "outputs": [
    {
     "data": {
      "text/plain": [
       "['i', 'ate', 'fish']"
      ]
     },
     "execution_count": 68,
     "metadata": {},
     "output_type": "execute_result"
    }
   ],
   "source": [
    "pp.sentence"
   ]
  },
  {
   "cell_type": "code",
   "execution_count": null,
   "id": "ee6f3484",
   "metadata": {},
   "outputs": [],
   "source": []
  },
  {
   "cell_type": "code",
   "execution_count": null,
   "id": "41d2d254",
   "metadata": {},
   "outputs": [],
   "source": []
  },
  {
   "cell_type": "code",
   "execution_count": null,
   "id": "536e1eec",
   "metadata": {},
   "outputs": [],
   "source": []
  },
  {
   "cell_type": "code",
   "execution_count": null,
   "id": "afee288e",
   "metadata": {},
   "outputs": [],
   "source": []
  },
  {
   "cell_type": "code",
   "execution_count": null,
   "id": "8c769a5b",
   "metadata": {},
   "outputs": [],
   "source": []
  },
  {
   "cell_type": "code",
   "execution_count": null,
   "id": "c29b1a7b",
   "metadata": {},
   "outputs": [],
   "source": []
  },
  {
   "cell_type": "code",
   "execution_count": null,
   "id": "c59f1fee",
   "metadata": {},
   "outputs": [],
   "source": []
  },
  {
   "cell_type": "markdown",
   "id": "2948749f",
   "metadata": {},
   "source": [
    "**Some classes practice.**"
   ]
  },
  {
   "cell_type": "code",
   "execution_count": 46,
   "id": "046f6987",
   "metadata": {},
   "outputs": [],
   "source": [
    "class Animal:\n",
    "    # set the class attribute\n",
    "    kingdom = 'Animalia'\n",
    "    \n",
    "    # initialize and set instance attributes\n",
    "    def __init__(self,species,age):\n",
    "        self.species = species\n",
    "        self.age = age\n",
    "        \n",
    "        \n",
    "    # instance method to print the species and age\n",
    "    def describe(self):\n",
    "        print(f'This is a {self.species} and is {self.age} years old.')\n",
    "    \n",
    "    @classmethod\n",
    "    def info(cls):\n",
    "        print(f'Animals belong to the {cls.kingdom} kingdom.')"
   ]
  },
  {
   "cell_type": "code",
   "execution_count": 47,
   "id": "833d06e0",
   "metadata": {},
   "outputs": [],
   "source": [
    "animal_1 = Animal('Dog',5)"
   ]
  },
  {
   "cell_type": "code",
   "execution_count": 48,
   "id": "5ac8e829",
   "metadata": {},
   "outputs": [
    {
     "data": {
      "text/plain": [
       "'Dog'"
      ]
     },
     "execution_count": 48,
     "metadata": {},
     "output_type": "execute_result"
    }
   ],
   "source": [
    "animal_1.species"
   ]
  },
  {
   "cell_type": "code",
   "execution_count": 49,
   "id": "4b1b22a1",
   "metadata": {},
   "outputs": [
    {
     "data": {
      "text/plain": [
       "5"
      ]
     },
     "execution_count": 49,
     "metadata": {},
     "output_type": "execute_result"
    }
   ],
   "source": [
    "animal_1.age"
   ]
  },
  {
   "cell_type": "code",
   "execution_count": 50,
   "id": "95e4943d",
   "metadata": {},
   "outputs": [
    {
     "name": "stdout",
     "output_type": "stream",
     "text": [
      "This is a Dog and is 5 years old.\n"
     ]
    }
   ],
   "source": [
    "animal_1.describe()"
   ]
  },
  {
   "cell_type": "code",
   "execution_count": 51,
   "id": "5931adb0",
   "metadata": {},
   "outputs": [
    {
     "name": "stdout",
     "output_type": "stream",
     "text": [
      "Animals belong to the Animalia kingdom.\n"
     ]
    }
   ],
   "source": [
    "animal_1.info()"
   ]
  },
  {
   "cell_type": "markdown",
   "id": "6ef708dd",
   "metadata": {},
   "source": [
    "**Inheritance**"
   ]
  },
  {
   "cell_type": "code",
   "execution_count": 53,
   "id": "f988c994",
   "metadata": {},
   "outputs": [],
   "source": [
    "class Bird(Animal):\n",
    "    \n",
    "    def __init__(self,species,age,can_fly):\n",
    "        super().__init__(species,age)\n",
    "        self.can_fly = can_fly\n",
    "    \n",
    "    def describe(self):\n",
    "        \n",
    "        if self.can_fly:\n",
    "            fly_status = 'can fly'\n",
    "        else:\n",
    "            fly_status = 'cannot fly'\n",
    "        \n",
    "        print(f'{self.species} of age {self.age} years {fly_status} and belongs to the {self.kingdom}.')"
   ]
  },
  {
   "cell_type": "code",
   "execution_count": 55,
   "id": "00ef32f7",
   "metadata": {},
   "outputs": [],
   "source": [
    "bird_1 = Bird('Myna',3,True)"
   ]
  },
  {
   "cell_type": "code",
   "execution_count": 56,
   "id": "0e8e882b",
   "metadata": {},
   "outputs": [
    {
     "name": "stdout",
     "output_type": "stream",
     "text": [
      "Myna of age 3 years can fly and belongs to the Animalia.\n"
     ]
    }
   ],
   "source": [
    "bird_1.describe()"
   ]
  },
  {
   "cell_type": "code",
   "execution_count": null,
   "id": "61876437",
   "metadata": {},
   "outputs": [],
   "source": []
  }
 ],
 "metadata": {
  "kernelspec": {
   "display_name": "Python 3 (ipykernel)",
   "language": "python",
   "name": "python3"
  },
  "language_info": {
   "codemirror_mode": {
    "name": "ipython",
    "version": 3
   },
   "file_extension": ".py",
   "mimetype": "text/x-python",
   "name": "python",
   "nbconvert_exporter": "python",
   "pygments_lexer": "ipython3",
   "version": "3.9.12"
  }
 },
 "nbformat": 4,
 "nbformat_minor": 5
}
