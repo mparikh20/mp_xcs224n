{
 "cells": [
  {
   "cell_type": "markdown",
   "id": "f1e7a8f1",
   "metadata": {},
   "source": [
    "**Assignment Q1 - Class PartialParse initialization**"
   ]
  },
  {
   "cell_type": "code",
   "execution_count": 227,
   "id": "a6b8cb12",
   "metadata": {},
   "outputs": [],
   "source": [
    "class PartialParse(object):\n",
    "    def __init__(self, sentence):\n",
    "        \"\"\"Initializes this partial parse.\n",
    "\n",
    "        Your code should initialize the following fields:\n",
    "            self.stack: The current stack represented as a list with the top of the stack as the\n",
    "                        last element of the list.\n",
    "            self.buffer: The current buffer represented as a list with the first item on the\n",
    "                         buffer as the first item of the list\n",
    "            self.dependencies: The list of dependencies produced so far. Represented as a list of\n",
    "                    tuples where each tuple is of the form (head, dependent).\n",
    "                    Order for this list doesn't matter.\n",
    "\n",
    "        The root token should be represented with the string \"ROOT\"\n",
    "\n",
    "        Args:\n",
    "            sentence: The sentence to be parsed as a list of words.\n",
    "                      Your code should not modify the sentence.\n",
    "        \"\"\"\n",
    "        # The sentence being parsed is kept for bookkeeping purposes. Do not use it in your code.\n",
    "        self.sentence = sentence\n",
    "\n",
    "        ### START CODE HERE\n",
    "        # Stack should start out with ROOT\n",
    "        self.stack = ['ROOT']\n",
    "        \n",
    "        # buffer should start out with all the words in the sentence but should not change the original input\n",
    "        self.buffer = sentence[:]\n",
    "        \n",
    "        # dependencies will be empty\n",
    "        self.dependencies = []\n",
    "        ### END CODE HERE\n",
    "        \n",
    "    def parse_step(self, transition):\n",
    "        \"\"\"Performs a single parse step by applying the given transition to this partial parse\n",
    "\n",
    "        Args:\n",
    "            transition: A string that equals \"S\", \"LA\", or \"RA\" representing the shift, left-arc,\n",
    "                        and right-arc transitions. You can assume the provided transition is a legal\n",
    "                        transition.\n",
    "        \"\"\"\n",
    "        ### START CODE HERE\n",
    "        # if shift, then transfer the first word from buffer to the end of the stack\n",
    "        if transition == 'S':\n",
    "            next_word = self.buffer.pop(0)\n",
    "\n",
    "            # add it to the stack\n",
    "            self.stack.append(next_word)\n",
    "        \n",
    "        elif transition == 'LA':\n",
    "            # left arc means that the second last element in stack is a dependent of the last element\n",
    "            head = self.stack[-1]\n",
    "            # remove the dependent\n",
    "            dependent = self.stack.pop(-2)\n",
    "            # add the pair to the dependencies list\n",
    "            self.dependencies.append((head,dependent))\n",
    "            \n",
    "        elif transition == 'RA':\n",
    "            # right arc means that the last item in the stack is a dependent of the second to last element\n",
    "            head = self.stack[-2]\n",
    "            dependent = self.stack.pop(-1)\n",
    "            self.dependencies.append((head,dependent))\n",
    "        ### END CODE HERE\n",
    "        \n",
    "    def parse(self, transitions):\n",
    "        \"\"\"Applies the provided transitions to this PartialParse\n",
    "\n",
    "        Args:\n",
    "            transitions: The list of transitions in the order they should be applied\n",
    "        Returns:\n",
    "            dependencies: The list of dependencies produced when parsing the sentence. Represented\n",
    "                          as a list of tuples where each tuple is of the form (head, dependent)\n",
    "        \"\"\"\n",
    "        for transition in transitions:\n",
    "            self.parse_step(transition)\n",
    "        return self.dependencies"
   ]
  },
  {
   "cell_type": "code",
   "execution_count": 300,
   "id": "881b7938",
   "metadata": {},
   "outputs": [],
   "source": [
    "pp = PartialParse(['i','ate','fish'])"
   ]
  },
  {
   "cell_type": "code",
   "execution_count": 301,
   "id": "a9c04642",
   "metadata": {},
   "outputs": [
    {
     "data": {
      "text/plain": [
       "['ROOT']"
      ]
     },
     "execution_count": 301,
     "metadata": {},
     "output_type": "execute_result"
    }
   ],
   "source": [
    "pp.stack"
   ]
  },
  {
   "cell_type": "code",
   "execution_count": 302,
   "id": "6af56f0d",
   "metadata": {},
   "outputs": [
    {
     "data": {
      "text/plain": [
       "['i', 'ate', 'fish']"
      ]
     },
     "execution_count": 302,
     "metadata": {},
     "output_type": "execute_result"
    }
   ],
   "source": [
    "pp.buffer"
   ]
  },
  {
   "cell_type": "code",
   "execution_count": 303,
   "id": "b4e17073",
   "metadata": {},
   "outputs": [
    {
     "data": {
      "text/plain": [
       "[]"
      ]
     },
     "execution_count": 303,
     "metadata": {},
     "output_type": "execute_result"
    }
   ],
   "source": [
    "pp.dependencies"
   ]
  },
  {
   "cell_type": "code",
   "execution_count": 304,
   "id": "dc219bcb",
   "metadata": {},
   "outputs": [
    {
     "data": {
      "text/plain": [
       "['i', 'ate', 'fish']"
      ]
     },
     "execution_count": 304,
     "metadata": {},
     "output_type": "execute_result"
    }
   ],
   "source": [
    "pp.sentence"
   ]
  },
  {
   "cell_type": "code",
   "execution_count": 305,
   "id": "bf0cfb1a",
   "metadata": {},
   "outputs": [],
   "source": [
    "pp.parse_step('S')"
   ]
  },
  {
   "cell_type": "code",
   "execution_count": 306,
   "id": "e4124dad",
   "metadata": {},
   "outputs": [
    {
     "data": {
      "text/plain": [
       "[]"
      ]
     },
     "execution_count": 306,
     "metadata": {},
     "output_type": "execute_result"
    }
   ],
   "source": [
    "pp.dependencies"
   ]
  },
  {
   "cell_type": "code",
   "execution_count": 307,
   "id": "18e542e0",
   "metadata": {},
   "outputs": [],
   "source": [
    "pp.parse_step('S')"
   ]
  },
  {
   "cell_type": "code",
   "execution_count": 288,
   "id": "e432360a",
   "metadata": {
    "scrolled": true
   },
   "outputs": [
    {
     "ename": "AttributeError",
     "evalue": "'NoneType' object has no attribute 'dependencies'",
     "output_type": "error",
     "traceback": [
      "\u001b[0;31m---------------------------------------------------------------------------\u001b[0m",
      "\u001b[0;31mAttributeError\u001b[0m                            Traceback (most recent call last)",
      "\u001b[0;32m/var/folders/dk/wfg559q158x290pwcj2w20dc0000gp/T/ipykernel_47789/287270232.py\u001b[0m in \u001b[0;36m<module>\u001b[0;34m\u001b[0m\n\u001b[0;32m----> 1\u001b[0;31m \u001b[0mpp\u001b[0m\u001b[0;34m.\u001b[0m\u001b[0mparse_step\u001b[0m\u001b[0;34m(\u001b[0m\u001b[0;34m'LA'\u001b[0m\u001b[0;34m)\u001b[0m\u001b[0;34m.\u001b[0m\u001b[0mdependencies\u001b[0m\u001b[0;34m\u001b[0m\u001b[0;34m\u001b[0m\u001b[0m\n\u001b[0m",
      "\u001b[0;31mAttributeError\u001b[0m: 'NoneType' object has no attribute 'dependencies'"
     ]
    }
   ],
   "source": [
    "pp.parse_step('LA').dependencies"
   ]
  },
  {
   "cell_type": "code",
   "execution_count": 308,
   "id": "93896fa9",
   "metadata": {},
   "outputs": [
    {
     "data": {
      "text/plain": [
       "[]"
      ]
     },
     "execution_count": 308,
     "metadata": {},
     "output_type": "execute_result"
    }
   ],
   "source": [
    "pp.dependencies"
   ]
  },
  {
   "cell_type": "code",
   "execution_count": 309,
   "id": "e69ab2fb",
   "metadata": {},
   "outputs": [],
   "source": [
    "pp.parse_step('LA')"
   ]
  },
  {
   "cell_type": "code",
   "execution_count": 310,
   "id": "aeff0e2f",
   "metadata": {},
   "outputs": [
    {
     "data": {
      "text/plain": [
       "[('ate', 'i')]"
      ]
     },
     "execution_count": 310,
     "metadata": {},
     "output_type": "execute_result"
    }
   ],
   "source": [
    "pp.dependencies"
   ]
  },
  {
   "cell_type": "code",
   "execution_count": null,
   "id": "f579af13",
   "metadata": {},
   "outputs": [],
   "source": [
    "pp."
   ]
  },
  {
   "cell_type": "code",
   "execution_count": null,
   "id": "89c5d459",
   "metadata": {},
   "outputs": [],
   "source": []
  },
  {
   "cell_type": "code",
   "execution_count": 243,
   "id": "1619de55",
   "metadata": {},
   "outputs": [],
   "source": [
    "# test a series of transitions\n",
    "transitions = ['S','S','LA','S','RA','RA']\n",
    "x = pp.parse(transitions)"
   ]
  },
  {
   "cell_type": "code",
   "execution_count": 244,
   "id": "c6511f1b",
   "metadata": {},
   "outputs": [
    {
     "data": {
      "text/plain": [
       "[('ate', 'i'), ('ate', 'fish'), ('ROOT', 'ate')]"
      ]
     },
     "execution_count": 244,
     "metadata": {},
     "output_type": "execute_result"
    }
   ],
   "source": [
    "x"
   ]
  },
  {
   "cell_type": "code",
   "execution_count": 245,
   "id": "e899c723",
   "metadata": {},
   "outputs": [
    {
     "data": {
      "text/plain": [
       "[]"
      ]
     },
     "execution_count": 245,
     "metadata": {},
     "output_type": "execute_result"
    }
   ],
   "source": [
    "pp.buffer"
   ]
  },
  {
   "cell_type": "code",
   "execution_count": 246,
   "id": "496ba1d6",
   "metadata": {},
   "outputs": [
    {
     "data": {
      "text/plain": [
       "['ROOT']"
      ]
     },
     "execution_count": 246,
     "metadata": {},
     "output_type": "execute_result"
    }
   ],
   "source": [
    "pp.stack"
   ]
  },
  {
   "cell_type": "markdown",
   "id": "2e8421c1",
   "metadata": {},
   "source": [
    "**Mini-batch parsing**"
   ]
  },
  {
   "cell_type": "code",
   "execution_count": 333,
   "id": "05a67c4c",
   "metadata": {},
   "outputs": [],
   "source": [
    "class DummyModel(object):\n",
    "    \"\"\"Dummy model for testing the minibatch_parse function\n",
    "    First shifts everything onto the stack and then does exclusively right arcs if the first word of\n",
    "    the sentence is \"right\", \"left\" if otherwise.\n",
    "    \"\"\"\n",
    "\n",
    "    def predict(self, partial_parses, device):\n",
    "        return [(\"RA\" if pp.stack[1] == \"right\" else \"LA\") if len(pp.buffer) == 0 else \"S\"\n",
    "                for pp in partial_parses]"
   ]
  },
  {
   "cell_type": "code",
   "execution_count": 381,
   "id": "b73db47f",
   "metadata": {},
   "outputs": [],
   "source": [
    "def minibatch_parse(sentences,model, device, batch_size):\n",
    "    \"\"\"Parses a list of sentences in minibatches using a model.\n",
    "\n",
    "    Args:\n",
    "        sentences: A list of sentences to be parsed (each sentence is a list of words)\n",
    "        model: The model that makes parsing decisions. It is assumed to have a function\n",
    "               model.predict(partial_parses) that takes in a list of PartialParses as input and\n",
    "               returns a list of transitions predicted for each parse. That is, after calling\n",
    "                   transitions = model.predict(partial_parses)\n",
    "               transitions[i] will be the next transition to apply to partial_parses[i].\n",
    "        device: The device to be used\n",
    "        batch_size: The number of PartialParses to include in each minibatch\n",
    "    Returns:\n",
    "        dependencies: A list where each element is the dependencies list for a parsed sentence.\n",
    "                      Ordering should be the same as in sentences (i.e., dependencies[i] should\n",
    "                      contain the parse for sentences[i]).\n",
    "    \"\"\"\n",
    "\n",
    "    ### START CODE HERE\n",
    "    # take each sentence and initialize a PartialParse object\n",
    "    # list of lists\n",
    "    partial_parses = [PartialParse(sentence) for sentence in sentences]\n",
    "    \n",
    "    # copy of partial_parses\n",
    "    # list of lists\n",
    "    unfinished_parses = partial_parses.copy()\n",
    "    \n",
    "    while len(unfinished_parses) != 0:\n",
    "        # list of lists\n",
    "        \n",
    "        minibatch = unfinished_parses[0:batch_size]\n",
    "        print(f'minibatch = {minibatch}')\n",
    "        # predict the next transition for each partial pass\n",
    "        # returns a list of transitions for each parse\n",
    "        # this will be a list of elements\n",
    "        transitions = model.predict(minibatch, device)\n",
    "        \n",
    "        print(f'transitions={transitions}')\n",
    "        \n",
    "        # apply the parse step on each partial parse in the minibatch\n",
    "        for i,pp in enumerate(minibatch):\n",
    "            # apply a transition\n",
    "            print(f'buffer={pp.buffer}')\n",
    "            pp.parse_step(transitions[i])\n",
    "            print(f'buffer={pp.buffer}')\n",
    "            # check the unfinished list and remove sentences that are fully parsed\n",
    "            unfinished_parses = [p for p in unfinished_parses if len(p.stack) > 1 or len(p.buffer) != 0]\n",
    "            \n",
    "            print(f'unfinished={unfinished_parses}')\n",
    "    dependencies = [pp.dependencies for pp in partial_parses]\n",
    "    print(f'unfinished={unfinished_parses}')\n",
    "    ### END CODE HERE\n",
    "    \n",
    "    return dependencies"
   ]
  },
  {
   "cell_type": "code",
   "execution_count": 382,
   "id": "aa065877",
   "metadata": {
    "scrolled": false
   },
   "outputs": [
    {
     "name": "stdout",
     "output_type": "stream",
     "text": [
      "minibatch = [<__main__.PartialParse object at 0x10d529e80>, <__main__.PartialParse object at 0x10d529940>]\n",
      "transitions=['S', 'S']\n",
      "buffer=['right', 'arcs', 'only']\n",
      "buffer=['arcs', 'only']\n",
      "unfinished=[<__main__.PartialParse object at 0x10d529e80>, <__main__.PartialParse object at 0x10d529940>, <__main__.PartialParse object at 0x10d529850>, <__main__.PartialParse object at 0x10d5299d0>]\n",
      "buffer=['right', 'arcs', 'only', 'again']\n",
      "buffer=['arcs', 'only', 'again']\n",
      "unfinished=[<__main__.PartialParse object at 0x10d529e80>, <__main__.PartialParse object at 0x10d529940>, <__main__.PartialParse object at 0x10d529850>, <__main__.PartialParse object at 0x10d5299d0>]\n",
      "minibatch = [<__main__.PartialParse object at 0x10d529e80>, <__main__.PartialParse object at 0x10d529940>]\n",
      "transitions=['S', 'S']\n",
      "buffer=['arcs', 'only']\n",
      "buffer=['only']\n",
      "unfinished=[<__main__.PartialParse object at 0x10d529e80>, <__main__.PartialParse object at 0x10d529940>, <__main__.PartialParse object at 0x10d529850>, <__main__.PartialParse object at 0x10d5299d0>]\n",
      "buffer=['arcs', 'only', 'again']\n",
      "buffer=['only', 'again']\n",
      "unfinished=[<__main__.PartialParse object at 0x10d529e80>, <__main__.PartialParse object at 0x10d529940>, <__main__.PartialParse object at 0x10d529850>, <__main__.PartialParse object at 0x10d5299d0>]\n",
      "minibatch = [<__main__.PartialParse object at 0x10d529e80>, <__main__.PartialParse object at 0x10d529940>]\n",
      "transitions=['S', 'S']\n",
      "buffer=['only']\n",
      "buffer=[]\n",
      "unfinished=[<__main__.PartialParse object at 0x10d529e80>, <__main__.PartialParse object at 0x10d529940>, <__main__.PartialParse object at 0x10d529850>, <__main__.PartialParse object at 0x10d5299d0>]\n",
      "buffer=['only', 'again']\n",
      "buffer=['again']\n",
      "unfinished=[<__main__.PartialParse object at 0x10d529e80>, <__main__.PartialParse object at 0x10d529940>, <__main__.PartialParse object at 0x10d529850>, <__main__.PartialParse object at 0x10d5299d0>]\n",
      "minibatch = [<__main__.PartialParse object at 0x10d529e80>, <__main__.PartialParse object at 0x10d529940>]\n",
      "transitions=['RA', 'S']\n",
      "buffer=[]\n",
      "buffer=[]\n",
      "unfinished=[<__main__.PartialParse object at 0x10d529e80>, <__main__.PartialParse object at 0x10d529940>, <__main__.PartialParse object at 0x10d529850>, <__main__.PartialParse object at 0x10d5299d0>]\n",
      "buffer=['again']\n",
      "buffer=[]\n",
      "unfinished=[<__main__.PartialParse object at 0x10d529e80>, <__main__.PartialParse object at 0x10d529940>, <__main__.PartialParse object at 0x10d529850>, <__main__.PartialParse object at 0x10d5299d0>]\n",
      "minibatch = [<__main__.PartialParse object at 0x10d529e80>, <__main__.PartialParse object at 0x10d529940>]\n",
      "transitions=['RA', 'RA']\n",
      "buffer=[]\n",
      "buffer=[]\n",
      "unfinished=[<__main__.PartialParse object at 0x10d529e80>, <__main__.PartialParse object at 0x10d529940>, <__main__.PartialParse object at 0x10d529850>, <__main__.PartialParse object at 0x10d5299d0>]\n",
      "buffer=[]\n",
      "buffer=[]\n",
      "unfinished=[<__main__.PartialParse object at 0x10d529e80>, <__main__.PartialParse object at 0x10d529940>, <__main__.PartialParse object at 0x10d529850>, <__main__.PartialParse object at 0x10d5299d0>]\n",
      "minibatch = [<__main__.PartialParse object at 0x10d529e80>, <__main__.PartialParse object at 0x10d529940>]\n",
      "transitions=['RA', 'RA']\n",
      "buffer=[]\n",
      "buffer=[]\n",
      "unfinished=[<__main__.PartialParse object at 0x10d529940>, <__main__.PartialParse object at 0x10d529850>, <__main__.PartialParse object at 0x10d5299d0>]\n",
      "buffer=[]\n",
      "buffer=[]\n",
      "unfinished=[<__main__.PartialParse object at 0x10d529940>, <__main__.PartialParse object at 0x10d529850>, <__main__.PartialParse object at 0x10d5299d0>]\n",
      "minibatch = [<__main__.PartialParse object at 0x10d529940>, <__main__.PartialParse object at 0x10d529850>]\n",
      "transitions=['RA', 'S']\n",
      "buffer=[]\n",
      "buffer=[]\n",
      "unfinished=[<__main__.PartialParse object at 0x10d529940>, <__main__.PartialParse object at 0x10d529850>, <__main__.PartialParse object at 0x10d5299d0>]\n",
      "buffer=['left', 'arcs', 'only']\n",
      "buffer=['arcs', 'only']\n",
      "unfinished=[<__main__.PartialParse object at 0x10d529940>, <__main__.PartialParse object at 0x10d529850>, <__main__.PartialParse object at 0x10d5299d0>]\n",
      "minibatch = [<__main__.PartialParse object at 0x10d529940>, <__main__.PartialParse object at 0x10d529850>]\n",
      "transitions=['RA', 'S']\n",
      "buffer=[]\n",
      "buffer=[]\n",
      "unfinished=[<__main__.PartialParse object at 0x10d529850>, <__main__.PartialParse object at 0x10d5299d0>]\n",
      "buffer=['arcs', 'only']\n",
      "buffer=['only']\n",
      "unfinished=[<__main__.PartialParse object at 0x10d529850>, <__main__.PartialParse object at 0x10d5299d0>]\n",
      "minibatch = [<__main__.PartialParse object at 0x10d529850>, <__main__.PartialParse object at 0x10d5299d0>]\n",
      "transitions=['S', 'S']\n",
      "buffer=['only']\n",
      "buffer=[]\n",
      "unfinished=[<__main__.PartialParse object at 0x10d529850>, <__main__.PartialParse object at 0x10d5299d0>]\n",
      "buffer=['left', 'arcs', 'only', 'again']\n",
      "buffer=['arcs', 'only', 'again']\n",
      "unfinished=[<__main__.PartialParse object at 0x10d529850>, <__main__.PartialParse object at 0x10d5299d0>]\n",
      "minibatch = [<__main__.PartialParse object at 0x10d529850>, <__main__.PartialParse object at 0x10d5299d0>]\n",
      "transitions=['LA', 'S']\n",
      "buffer=[]\n",
      "buffer=[]\n",
      "unfinished=[<__main__.PartialParse object at 0x10d529850>, <__main__.PartialParse object at 0x10d5299d0>]\n",
      "buffer=['arcs', 'only', 'again']\n",
      "buffer=['only', 'again']\n",
      "unfinished=[<__main__.PartialParse object at 0x10d529850>, <__main__.PartialParse object at 0x10d5299d0>]\n",
      "minibatch = [<__main__.PartialParse object at 0x10d529850>, <__main__.PartialParse object at 0x10d5299d0>]\n",
      "transitions=['LA', 'S']\n",
      "buffer=[]\n",
      "buffer=[]\n",
      "unfinished=[<__main__.PartialParse object at 0x10d529850>, <__main__.PartialParse object at 0x10d5299d0>]\n",
      "buffer=['only', 'again']\n",
      "buffer=['again']\n",
      "unfinished=[<__main__.PartialParse object at 0x10d529850>, <__main__.PartialParse object at 0x10d5299d0>]\n",
      "minibatch = [<__main__.PartialParse object at 0x10d529850>, <__main__.PartialParse object at 0x10d5299d0>]\n",
      "transitions=['LA', 'S']\n",
      "buffer=[]\n",
      "buffer=[]\n",
      "unfinished=[<__main__.PartialParse object at 0x10d5299d0>]\n",
      "buffer=['again']\n",
      "buffer=[]\n",
      "unfinished=[<__main__.PartialParse object at 0x10d5299d0>]\n",
      "minibatch = [<__main__.PartialParse object at 0x10d5299d0>]\n",
      "transitions=['LA']\n",
      "buffer=[]\n",
      "buffer=[]\n",
      "unfinished=[<__main__.PartialParse object at 0x10d5299d0>]\n",
      "minibatch = [<__main__.PartialParse object at 0x10d5299d0>]\n",
      "transitions=['LA']\n",
      "buffer=[]\n",
      "buffer=[]\n",
      "unfinished=[<__main__.PartialParse object at 0x10d5299d0>]\n",
      "minibatch = [<__main__.PartialParse object at 0x10d5299d0>]\n",
      "transitions=['LA']\n",
      "buffer=[]\n",
      "buffer=[]\n",
      "unfinished=[<__main__.PartialParse object at 0x10d5299d0>]\n",
      "minibatch = [<__main__.PartialParse object at 0x10d5299d0>]\n",
      "transitions=['LA']\n",
      "buffer=[]\n",
      "buffer=[]\n",
      "unfinished=[]\n",
      "unfinished=[]\n"
     ]
    }
   ],
   "source": [
    "device = 'cpu'\n",
    "sentences = [[\"right\", \"arcs\", \"only\"],\n",
    "                 [\"right\", \"arcs\", \"only\", \"again\"],\n",
    "                 [\"left\", \"arcs\", \"only\"],\n",
    "                 [\"left\", \"arcs\", \"only\", \"again\"]]\n",
    "deps = minibatch_parse(sentences=sentences, model=DummyModel(), device='cpu', batch_size=2)"
   ]
  },
  {
   "cell_type": "code",
   "execution_count": 383,
   "id": "d15179f2",
   "metadata": {},
   "outputs": [
    {
     "data": {
      "text/plain": [
       "[[('arcs', 'only'), ('right', 'arcs'), ('ROOT', 'right')],\n",
       " [('only', 'again'), ('arcs', 'only'), ('right', 'arcs'), ('ROOT', 'right')],\n",
       " [('only', 'arcs'), ('only', 'left'), ('only', 'ROOT')],\n",
       " [('again', 'only'), ('again', 'arcs'), ('again', 'left'), ('again', 'ROOT')]]"
      ]
     },
     "execution_count": 383,
     "metadata": {},
     "output_type": "execute_result"
    }
   ],
   "source": [
    "deps"
   ]
  },
  {
   "cell_type": "code",
   "execution_count": 389,
   "id": "e0fa6f5d",
   "metadata": {},
   "outputs": [
    {
     "data": {
      "text/plain": [
       "True"
      ]
     },
     "execution_count": 389,
     "metadata": {},
     "output_type": "execute_result"
    }
   ],
   "source": [
    "tuple(sorted(deps[3])) == (('again', 'ROOT'), ('again', 'arcs'), ('again', 'left'), ('again', 'only'))"
   ]
  },
  {
   "cell_type": "code",
   "execution_count": null,
   "id": "56e79366",
   "metadata": {},
   "outputs": [],
   "source": []
  },
  {
   "cell_type": "code",
   "execution_count": null,
   "id": "80545348",
   "metadata": {},
   "outputs": [],
   "source": []
  },
  {
   "cell_type": "code",
   "execution_count": null,
   "id": "b7ae3d73",
   "metadata": {},
   "outputs": [],
   "source": []
  },
  {
   "cell_type": "code",
   "execution_count": 263,
   "id": "ff0194f6",
   "metadata": {},
   "outputs": [],
   "source": [
    "pps = minibatch_parse([['i','ate','fish'],\n",
    "                       ['she','went','today'],\n",
    "                       ['he','is','late'],\n",
    "                       ['they','are','french']])"
   ]
  },
  {
   "cell_type": "code",
   "execution_count": 264,
   "id": "9b9c5e84",
   "metadata": {},
   "outputs": [
    {
     "name": "stdout",
     "output_type": "stream",
     "text": [
      "['i', 'ate', 'fish']\n",
      "['she', 'went', 'today']\n",
      "['he', 'is', 'late']\n",
      "['they', 'are', 'french']\n"
     ]
    }
   ],
   "source": [
    "for pp in pps:\n",
    "    print(pp.sentence)"
   ]
  },
  {
   "cell_type": "code",
   "execution_count": 289,
   "id": "6c5054d3",
   "metadata": {},
   "outputs": [],
   "source": [
    "sentences = [['i','ate','fish'],\n",
    "                       ['she','went','today'],\n",
    "                       ['he','is','late'],\n",
    "                       ['they','are','french']]"
   ]
  },
  {
   "cell_type": "code",
   "execution_count": 290,
   "id": "320debf1",
   "metadata": {},
   "outputs": [],
   "source": [
    "partial_parses = [PartialParse(sentence) for sentence in sentences]"
   ]
  },
  {
   "cell_type": "code",
   "execution_count": 291,
   "id": "b4adb8ea",
   "metadata": {},
   "outputs": [
    {
     "data": {
      "text/plain": [
       "[<__main__.PartialParse at 0x10d06fdf0>,\n",
       " <__main__.PartialParse at 0x10d06f2b0>,\n",
       " <__main__.PartialParse at 0x10d1d9820>,\n",
       " <__main__.PartialParse at 0x10d1d97f0>]"
      ]
     },
     "execution_count": 291,
     "metadata": {},
     "output_type": "execute_result"
    }
   ],
   "source": [
    "partial_parses"
   ]
  },
  {
   "cell_type": "code",
   "execution_count": 292,
   "id": "314a5457",
   "metadata": {},
   "outputs": [],
   "source": [
    "unfinished_parses = partial_parses.copy()"
   ]
  },
  {
   "cell_type": "code",
   "execution_count": 293,
   "id": "1a4847cb",
   "metadata": {},
   "outputs": [
    {
     "name": "stdout",
     "output_type": "stream",
     "text": [
      "[]\n",
      "[]\n",
      "[]\n",
      "[]\n"
     ]
    }
   ],
   "source": [
    "for pp in partial_parses:\n",
    "    print(pp.dependencies)"
   ]
  },
  {
   "cell_type": "markdown",
   "id": "07340822",
   "metadata": {},
   "source": [
    "# Pytorch"
   ]
  },
  {
   "cell_type": "code",
   "execution_count": 2,
   "id": "80754766",
   "metadata": {},
   "outputs": [],
   "source": [
    "import torch"
   ]
  },
  {
   "cell_type": "code",
   "execution_count": 3,
   "id": "cc58a237",
   "metadata": {},
   "outputs": [],
   "source": [
    "input = torch.randn(128, 20)"
   ]
  },
  {
   "cell_type": "code",
   "execution_count": 4,
   "id": "a5257b88",
   "metadata": {},
   "outputs": [
    {
     "data": {
      "text/plain": [
       "tensor([[ 0.7789,  1.7389,  2.4341,  ...,  1.4238,  0.2928,  0.0030],\n",
       "        [ 1.3080, -1.1547,  1.1477,  ..., -0.9575,  1.4533,  0.0933],\n",
       "        [-0.3387,  0.3732,  0.0047,  ..., -0.1439, -1.9455, -0.3377],\n",
       "        ...,\n",
       "        [ 2.1017,  0.4751,  0.9565,  ...,  2.4150,  0.0152, -0.4545],\n",
       "        [-0.4939,  0.1361,  0.4154,  ..., -0.9293,  0.0038, -1.7281],\n",
       "        [-0.6086,  0.9010, -0.1308,  ..., -0.8762,  0.5714, -0.6027]])"
      ]
     },
     "execution_count": 4,
     "metadata": {},
     "output_type": "execute_result"
    }
   ],
   "source": [
    "input"
   ]
  },
  {
   "cell_type": "code",
   "execution_count": 5,
   "id": "d316b9bc",
   "metadata": {},
   "outputs": [],
   "source": [
    "import torch.nn as nn"
   ]
  },
  {
   "cell_type": "code",
   "execution_count": 13,
   "id": "8c95b479",
   "metadata": {},
   "outputs": [],
   "source": [
    "batch_size = 2"
   ]
  },
  {
   "cell_type": "code",
   "execution_count": 18,
   "id": "0c4b64fb",
   "metadata": {},
   "outputs": [],
   "source": [
    "n_features = 3"
   ]
  },
  {
   "cell_type": "code",
   "execution_count": 22,
   "id": "e372f6a9",
   "metadata": {},
   "outputs": [],
   "source": [
    "embed_size = 4"
   ]
  },
  {
   "cell_type": "code",
   "execution_count": 19,
   "id": "64886f34",
   "metadata": {},
   "outputs": [],
   "source": [
    "t = torch.randint(0,100,(batch_size,n_features))"
   ]
  },
  {
   "cell_type": "code",
   "execution_count": 20,
   "id": "014e6b41",
   "metadata": {},
   "outputs": [
    {
     "data": {
      "text/plain": [
       "tensor([[77, 21, 76],\n",
       "        [ 5, 20, 15]])"
      ]
     },
     "execution_count": 20,
     "metadata": {},
     "output_type": "execute_result"
    }
   ],
   "source": [
    "t"
   ]
  },
  {
   "cell_type": "code",
   "execution_count": 24,
   "id": "c3ebfe4b",
   "metadata": {},
   "outputs": [],
   "source": [
    "# initializes a matrix of 100 words (each row) and the number of dimensions for each word\n",
    "pretrained_embedding = nn.Embedding(100,embed_size)"
   ]
  },
  {
   "cell_type": "code",
   "execution_count": 25,
   "id": "08e47e67",
   "metadata": {},
   "outputs": [],
   "source": [
    "# t holds 2 batches right now. Each has 3 indices pointing to 3 words.\n",
    "# Pass t through the embedding object which will look up the index and fetch the vector for it."
   ]
  },
  {
   "cell_type": "code",
   "execution_count": 30,
   "id": "65b8fbbd",
   "metadata": {},
   "outputs": [
    {
     "data": {
      "text/plain": [
       "tensor([[[ 8.9033e-01,  2.2441e-01, -7.0007e-01,  7.2030e-01],\n",
       "         [-4.3579e-01, -1.1523e+00,  1.7860e+00,  4.0433e-01],\n",
       "         [-1.2616e+00,  1.1266e-01, -8.0723e-01,  5.0730e-01]],\n",
       "\n",
       "        [[-3.4679e-01,  1.4290e+00,  1.4169e+00,  5.9789e-02],\n",
       "         [ 8.5195e-05,  1.1737e-01,  1.7183e+00,  1.6444e-01],\n",
       "         [ 1.8208e-01,  4.1310e-01,  1.1735e+00, -9.0749e-01]]],\n",
       "       grad_fn=<EmbeddingBackward0>)"
      ]
     },
     "execution_count": 30,
     "metadata": {},
     "output_type": "execute_result"
    }
   ],
   "source": [
    "# this gives a [2,3,4] dimensional tensor\n",
    "pretrained_embedding(t)"
   ]
  },
  {
   "cell_type": "code",
   "execution_count": 32,
   "id": "37ab9444",
   "metadata": {},
   "outputs": [],
   "source": [
    "# but we need to get a flattened vector where all words in a batch are held in the same vector.\n",
    "# so this should be reshaped\n",
    "\n",
    "x = pretrained_embedding(t).view([2,12])"
   ]
  },
  {
   "cell_type": "code",
   "execution_count": 33,
   "id": "edb747fc",
   "metadata": {},
   "outputs": [
    {
     "data": {
      "text/plain": [
       "tensor([[ 8.9033e-01,  2.2441e-01, -7.0007e-01,  7.2030e-01, -4.3579e-01,\n",
       "         -1.1523e+00,  1.7860e+00,  4.0433e-01, -1.2616e+00,  1.1266e-01,\n",
       "         -8.0723e-01,  5.0730e-01],\n",
       "        [-3.4679e-01,  1.4290e+00,  1.4169e+00,  5.9789e-02,  8.5195e-05,\n",
       "          1.1737e-01,  1.7183e+00,  1.6444e-01,  1.8208e-01,  4.1310e-01,\n",
       "          1.1735e+00, -9.0749e-01]], grad_fn=<ViewBackward0>)"
      ]
     },
     "execution_count": 33,
     "metadata": {},
     "output_type": "execute_result"
    }
   ],
   "source": [
    "x"
   ]
  },
  {
   "cell_type": "code",
   "execution_count": 35,
   "id": "602fafe5",
   "metadata": {},
   "outputs": [
    {
     "data": {
      "text/plain": [
       "torch.Size([2, 12])"
      ]
     },
     "execution_count": 35,
     "metadata": {},
     "output_type": "execute_result"
    }
   ],
   "source": [
    "# this shows the 2 batches of words but now all the embeddings from words in a batch are concatenated together.\n",
    "x.shape"
   ]
  },
  {
   "cell_type": "markdown",
   "id": "2948749f",
   "metadata": {},
   "source": [
    "**Some classes practice.**"
   ]
  },
  {
   "cell_type": "code",
   "execution_count": 260,
   "id": "a6e3cc43",
   "metadata": {},
   "outputs": [
    {
     "data": {
      "text/plain": [
       "[1, 2, 3, 5]"
      ]
     },
     "execution_count": 260,
     "metadata": {},
     "output_type": "execute_result"
    }
   ],
   "source": [
    "b"
   ]
  },
  {
   "cell_type": "code",
   "execution_count": 46,
   "id": "046f6987",
   "metadata": {},
   "outputs": [],
   "source": [
    "class Animal:\n",
    "    # set the class attribute\n",
    "    kingdom = 'Animalia'\n",
    "    \n",
    "    # initialize and set instance attributes\n",
    "    def __init__(self,species,age):\n",
    "        self.species = species\n",
    "        self.age = age\n",
    "        \n",
    "        \n",
    "    # instance method to print the species and age\n",
    "    def describe(self):\n",
    "        print(f'This is a {self.species} and is {self.age} years old.')\n",
    "    \n",
    "    @classmethod\n",
    "    def info(cls):\n",
    "        print(f'Animals belong to the {cls.kingdom} kingdom.')"
   ]
  },
  {
   "cell_type": "code",
   "execution_count": 47,
   "id": "833d06e0",
   "metadata": {},
   "outputs": [],
   "source": [
    "animal_1 = Animal('Dog',5)"
   ]
  },
  {
   "cell_type": "code",
   "execution_count": 48,
   "id": "5ac8e829",
   "metadata": {},
   "outputs": [
    {
     "data": {
      "text/plain": [
       "'Dog'"
      ]
     },
     "execution_count": 48,
     "metadata": {},
     "output_type": "execute_result"
    }
   ],
   "source": [
    "animal_1.species"
   ]
  },
  {
   "cell_type": "code",
   "execution_count": 49,
   "id": "4b1b22a1",
   "metadata": {},
   "outputs": [
    {
     "data": {
      "text/plain": [
       "5"
      ]
     },
     "execution_count": 49,
     "metadata": {},
     "output_type": "execute_result"
    }
   ],
   "source": [
    "animal_1.age"
   ]
  },
  {
   "cell_type": "code",
   "execution_count": 50,
   "id": "95e4943d",
   "metadata": {},
   "outputs": [
    {
     "name": "stdout",
     "output_type": "stream",
     "text": [
      "This is a Dog and is 5 years old.\n"
     ]
    }
   ],
   "source": [
    "animal_1.describe()"
   ]
  },
  {
   "cell_type": "code",
   "execution_count": 51,
   "id": "5931adb0",
   "metadata": {},
   "outputs": [
    {
     "name": "stdout",
     "output_type": "stream",
     "text": [
      "Animals belong to the Animalia kingdom.\n"
     ]
    }
   ],
   "source": [
    "animal_1.info()"
   ]
  },
  {
   "cell_type": "markdown",
   "id": "6ef708dd",
   "metadata": {},
   "source": [
    "**Inheritance**"
   ]
  },
  {
   "cell_type": "code",
   "execution_count": 53,
   "id": "f988c994",
   "metadata": {},
   "outputs": [],
   "source": [
    "class Bird(Animal):\n",
    "    \n",
    "    def __init__(self,species,age,can_fly):\n",
    "        super().__init__(species,age)\n",
    "        self.can_fly = can_fly\n",
    "    \n",
    "    def describe(self):\n",
    "        \n",
    "        if self.can_fly:\n",
    "            fly_status = 'can fly'\n",
    "        else:\n",
    "            fly_status = 'cannot fly'\n",
    "        \n",
    "        print(f'{self.species} of age {self.age} years {fly_status} and belongs to the {self.kingdom}.')"
   ]
  },
  {
   "cell_type": "code",
   "execution_count": 55,
   "id": "00ef32f7",
   "metadata": {},
   "outputs": [],
   "source": [
    "bird_1 = Bird('Myna',3,True)"
   ]
  },
  {
   "cell_type": "code",
   "execution_count": 56,
   "id": "0e8e882b",
   "metadata": {},
   "outputs": [
    {
     "name": "stdout",
     "output_type": "stream",
     "text": [
      "Myna of age 3 years can fly and belongs to the Animalia.\n"
     ]
    }
   ],
   "source": [
    "bird_1.describe()"
   ]
  },
  {
   "cell_type": "code",
   "execution_count": null,
   "id": "ae1a90d7",
   "metadata": {},
   "outputs": [],
   "source": []
  },
  {
   "cell_type": "code",
   "execution_count": 399,
   "id": "33a7ce9e",
   "metadata": {},
   "outputs": [],
   "source": [
    "a = [1,2,3]"
   ]
  },
  {
   "cell_type": "code",
   "execution_count": 400,
   "id": "88e47fbe",
   "metadata": {},
   "outputs": [],
   "source": [
    "b = a.copy()"
   ]
  },
  {
   "cell_type": "code",
   "execution_count": 401,
   "id": "97ed63b8",
   "metadata": {},
   "outputs": [
    {
     "data": {
      "text/plain": [
       "[1, 2, 3]"
      ]
     },
     "execution_count": 401,
     "metadata": {},
     "output_type": "execute_result"
    }
   ],
   "source": [
    "b"
   ]
  },
  {
   "cell_type": "code",
   "execution_count": 402,
   "id": "57a4f0d5",
   "metadata": {},
   "outputs": [],
   "source": [
    "# change b elements"
   ]
  },
  {
   "cell_type": "code",
   "execution_count": 403,
   "id": "a1c80043",
   "metadata": {},
   "outputs": [],
   "source": [
    "b[0] = b[0]*2"
   ]
  },
  {
   "cell_type": "code",
   "execution_count": 404,
   "id": "04033a7f",
   "metadata": {},
   "outputs": [
    {
     "data": {
      "text/plain": [
       "[2, 2, 3]"
      ]
     },
     "execution_count": 404,
     "metadata": {},
     "output_type": "execute_result"
    }
   ],
   "source": [
    "b"
   ]
  },
  {
   "cell_type": "code",
   "execution_count": 405,
   "id": "3e70146e",
   "metadata": {},
   "outputs": [
    {
     "data": {
      "text/plain": [
       "[1, 2, 3]"
      ]
     },
     "execution_count": 405,
     "metadata": {},
     "output_type": "execute_result"
    }
   ],
   "source": [
    "a"
   ]
  },
  {
   "cell_type": "code",
   "execution_count": null,
   "id": "d2045f8f",
   "metadata": {},
   "outputs": [],
   "source": []
  }
 ],
 "metadata": {
  "kernelspec": {
   "display_name": "Python 3 (ipykernel)",
   "language": "python",
   "name": "python3"
  },
  "language_info": {
   "codemirror_mode": {
    "name": "ipython",
    "version": 3
   },
   "file_extension": ".py",
   "mimetype": "text/x-python",
   "name": "python",
   "nbconvert_exporter": "python",
   "pygments_lexer": "ipython3",
   "version": "3.9.12"
  }
 },
 "nbformat": 4,
 "nbformat_minor": 5
}
